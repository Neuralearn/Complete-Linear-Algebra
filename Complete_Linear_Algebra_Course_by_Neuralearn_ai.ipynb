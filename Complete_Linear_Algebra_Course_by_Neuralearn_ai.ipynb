{
  "nbformat": 4,
  "nbformat_minor": 0,
  "metadata": {
    "colab": {
      "name": "Complete Linear Algebra Course by Neuralearn.ai.ipynb",
      "provenance": [],
      "authorship_tag": "ABX9TyMd6R+G4RyLGyEyvEscFGSw",
      "include_colab_link": true
    },
    "kernelspec": {
      "name": "python3",
      "display_name": "Python 3"
    },
    "language_info": {
      "name": "python"
    }
  },
  "cells": [
    {
      "cell_type": "markdown",
      "metadata": {
        "id": "view-in-github",
        "colab_type": "text"
      },
      "source": [
        "<a href=\"https://colab.research.google.com/github/Neuralearn/Complete-Linear-Algebra/blob/main/Complete_Linear_Algebra_Course_by_Neuralearn_ai.ipynb\" target=\"_parent\"><img src=\"https://colab.research.google.com/assets/colab-badge.svg\" alt=\"Open In Colab\"/></a>"
      ]
    },
    {
      "cell_type": "markdown",
      "metadata": {
        "id": "lXEdp9eSUQ9Z"
      },
      "source": [
        " <h1> <center> <font color = \"black\"> [Complete Linear Algebra]   <br><font color=\"grey\"> INTRODUCTION TO PYTHON PROGRAMMING  </font></center></h1>\n",
        "    "
      ]
    },
    {
      "cell_type": "markdown",
      "metadata": {
        "id": "BToU4VN4Udze"
      },
      "source": [
        "++++++++++++++++++++++++++++++++++++++++++++++++++++++++++++++++++++++++++++++++++++++++++++++++++++++++++++++++++++++++\n",
        " <h1> <center> <font color = \"orange\"> [Variable types and Basic Operators]   <br><font color=\"grey\"> </font></center></h1>\n",
        "----------------------------------------------\n",
        "    \n",
        "- Numbers(<font color = \"orange\">int, long, float, complex</font>)<br>\n",
        "- String<br>\n",
        "- List<br>\n",
        "- Tuple<br>\n",
        "- Dictionary\n",
        "    \n",
        "----------------------------------------------<br>\n",
        "    \n",
        "- Arithmetic Operators (<font color = \"orange\">+,-,/,%,//,** </font>)<br>\n",
        "- Comparison Operators (<font color = \"orange\">==, !=, <, >, <=, >=</font>) <br>\n",
        "- Assignment Operators (<font color = \"orange\">+=, -=, *=, /=, **=</font>)<br>\n",
        "- Membership Operators (<font color = \"orange\">in, not in</font>)<br>\n",
        "- Identity Operators  (<font color = \"orange\">is, is not</font>) <br>\n",
        "    \n",
        "----------------------------------------------<br>\n",
        "    \n",
        "    \n",
        "+++++++++++++++++++++++++++++++++++++++++++++++++++++++++++++++++++++++++++++++++++++++++++++++++++++++++++++++++++++"
      ]
    },
    {
      "cell_type": "code",
      "metadata": {
        "colab": {
          "base_uri": "https://localhost:8080/"
        },
        "id": "EeRE3QS7UW3W",
        "outputId": "02129698-b107-4865-9102-ff1bb58dd8d0"
      },
      "source": [
        "variable_name = 6\n",
        "var_2 = \"string\"\n",
        "var_3 = ['list',7,'s']\n",
        "var_4 = {'one':1, 'two':2}\n",
        "\n",
        "print(\"The content is {}, {}, {} of these variables.\" .format(variable_name , var_2, var_4))"
      ],
      "execution_count": null,
      "outputs": [
        {
          "output_type": "stream",
          "name": "stdout",
          "text": [
            "The content is 6, string, {'one': 1, 'two': 2} of these variables.\n"
          ]
        }
      ]
    },
    {
      "cell_type": "code",
      "metadata": {
        "colab": {
          "base_uri": "https://localhost:8080/"
        },
        "id": "tsMGR0NKUhMI",
        "outputId": "63e3ebb3-127d-4f85-e2f3-89fd6a36fc7a"
      },
      "source": [
        "number_1 = 5\n",
        "number_2 = 8.0\n",
        "\n",
        "print(\"The number 1 is {}, The number 2 is {}.\". format(number_1, number_2))"
      ],
      "execution_count": null,
      "outputs": [
        {
          "output_type": "stream",
          "name": "stdout",
          "text": [
            "The number 1 is 5, The number 2 is 8.0.\n"
          ]
        }
      ]
    },
    {
      "cell_type": "code",
      "metadata": {
        "colab": {
          "base_uri": "https://localhost:8080/"
        },
        "id": "oVB6O0tuUhYG",
        "outputId": "0bf30a58-25f0-46e0-f357-eba6b88e80a1"
      },
      "source": [
        "string = \"our stringis this in the double Quotes\"\n",
        "print(string[2:])\n",
        "print(string.lower())"
      ],
      "execution_count": null,
      "outputs": [
        {
          "output_type": "stream",
          "name": "stdout",
          "text": [
            "r stringis this in the double Quotes\n",
            "our stringis this in the double quotes\n"
          ]
        }
      ]
    },
    {
      "cell_type": "code",
      "metadata": {
        "colab": {
          "base_uri": "https://localhost:8080/"
        },
        "id": "d-6GooZTUhap",
        "outputId": "a454f7b6-5286-4c6c-9e7c-0f6937a0fd0a"
      },
      "source": [
        "list_1 = [1,2,4]\n",
        "list_1.append(8)\n",
        "print(list_1[3])\n",
        "\n",
        "list_string = [8,\"string in list\", 9]\n",
        "list_string.append(\"hello\")\n",
        "print(list_string)\n",
        "print(list_string[2:])\n",
        "print(len(list_string))"
      ],
      "execution_count": null,
      "outputs": [
        {
          "output_type": "stream",
          "name": "stdout",
          "text": [
            "8\n",
            "[8, 'string in list', 9, 'hello']\n",
            "[9, 'hello']\n",
            "4\n"
          ]
        }
      ]
    },
    {
      "cell_type": "code",
      "metadata": {
        "colab": {
          "base_uri": "https://localhost:8080/"
        },
        "id": "F-ZYqr83UhdD",
        "outputId": "ba6a0a1f-e178-4ec4-bc89-23afec4e97ed"
      },
      "source": [
        "empty_list = []\n",
        "print(empty_list)\n",
        "dimension_of_vector = 6\n",
        "vector_list = [0]*dimension_of_vector\n",
        "print(vector_list)\n",
        "vector_list[0] = 9\n",
        "print(vector_list)"
      ],
      "execution_count": null,
      "outputs": [
        {
          "output_type": "stream",
          "name": "stdout",
          "text": [
            "[]\n",
            "[0, 0, 0, 0, 0, 0]\n",
            "[9, 0, 0, 0, 0, 0]\n"
          ]
        }
      ]
    },
    {
      "cell_type": "code",
      "metadata": {
        "colab": {
          "base_uri": "https://localhost:8080/"
        },
        "id": "eRTf-kyNUmun",
        "outputId": "322170f6-2feb-4b4f-b338-62d4503c5992"
      },
      "source": [
        "number_of_columns = 4\n",
        "number_of_rows = 3 \n",
        "matrix_list_initial = [0]*number_of_rows\n",
        "matrix_list = [[0]*number_of_columns] * number_of_rows\n",
        "\n",
        "print(matrix_list_initial)\n",
        "print(matrix_list)"
      ],
      "execution_count": null,
      "outputs": [
        {
          "output_type": "stream",
          "name": "stdout",
          "text": [
            "[0, 0, 0]\n",
            "[[0, 0, 0, 0], [0, 0, 0, 0], [0, 0, 0, 0]]\n"
          ]
        }
      ]
    },
    {
      "cell_type": "code",
      "metadata": {
        "colab": {
          "base_uri": "https://localhost:8080/"
        },
        "id": "WN4X0w6NUmxN",
        "outputId": "ce02fd35-f2f7-4883-ac97-1e743a730c50"
      },
      "source": [
        "tuple_1 = (1,2,4)\n",
        "print(tuple_1)"
      ],
      "execution_count": null,
      "outputs": [
        {
          "output_type": "stream",
          "name": "stdout",
          "text": [
            "(1, 2, 4)\n"
          ]
        }
      ]
    },
    {
      "cell_type": "code",
      "metadata": {
        "colab": {
          "base_uri": "https://localhost:8080/",
          "height": 199
        },
        "id": "wcZRdiPSUmzt",
        "outputId": "4483ba21-d8f7-48cc-ff83-1e4e62dedd7f"
      },
      "source": [
        "dictionary_1 = {'one':1, 'two':2}\n",
        "\n",
        "print(dictionary_1['three'])"
      ],
      "execution_count": null,
      "outputs": [
        {
          "output_type": "error",
          "ename": "KeyError",
          "evalue": "ignored",
          "traceback": [
            "\u001b[0;31m---------------------------------------------------------------------------\u001b[0m",
            "\u001b[0;31mKeyError\u001b[0m                                  Traceback (most recent call last)",
            "\u001b[0;32m<ipython-input-28-b441512d4cd1>\u001b[0m in \u001b[0;36m<module>\u001b[0;34m()\u001b[0m\n\u001b[1;32m      1\u001b[0m \u001b[0mdictionary_1\u001b[0m \u001b[0;34m=\u001b[0m \u001b[0;34m{\u001b[0m\u001b[0;34m'one'\u001b[0m\u001b[0;34m:\u001b[0m\u001b[0;36m1\u001b[0m\u001b[0;34m,\u001b[0m \u001b[0;34m'two'\u001b[0m\u001b[0;34m:\u001b[0m\u001b[0;36m2\u001b[0m\u001b[0;34m}\u001b[0m\u001b[0;34m\u001b[0m\u001b[0;34m\u001b[0m\u001b[0m\n\u001b[1;32m      2\u001b[0m \u001b[0;34m\u001b[0m\u001b[0m\n\u001b[0;32m----> 3\u001b[0;31m \u001b[0mprint\u001b[0m\u001b[0;34m(\u001b[0m\u001b[0mdictionary_1\u001b[0m\u001b[0;34m[\u001b[0m\u001b[0;34m'three'\u001b[0m\u001b[0;34m]\u001b[0m\u001b[0;34m)\u001b[0m\u001b[0;34m\u001b[0m\u001b[0;34m\u001b[0m\u001b[0m\n\u001b[0m",
            "\u001b[0;31mKeyError\u001b[0m: 'three'"
          ]
        }
      ]
    },
    {
      "cell_type": "code",
      "metadata": {
        "colab": {
          "base_uri": "https://localhost:8080/"
        },
        "id": "yjQ_0UxSUm2T",
        "outputId": "8f8a1559-8c07-46f6-f5b3-44e1ef187e9e"
      },
      "source": [
        "a = 15\n",
        "b = 7\n",
        "\n",
        "add = a+b\n",
        "subtract  = a-b\n",
        "divide = a/b\n",
        "power = a**b\n",
        "modulo = a%b\n",
        "lower_divide = a//b\n",
        "print(add)\n",
        "print(subtract)\n",
        "print(divide)\n",
        "print(power)\n",
        "print(modulo)\n",
        "print(lower_divide)"
      ],
      "execution_count": null,
      "outputs": [
        {
          "output_type": "stream",
          "name": "stdout",
          "text": [
            "22\n",
            "8\n",
            "2.142857142857143\n",
            "170859375\n",
            "1\n",
            "2\n"
          ]
        }
      ]
    },
    {
      "cell_type": "code",
      "metadata": {
        "colab": {
          "base_uri": "https://localhost:8080/",
          "height": 130
        },
        "id": "onufvldpUm45",
        "outputId": "74352ff6-56db-48cb-973a-f86ad7df84cb"
      },
      "source": [
        "15 /7 = 2 r 1 "
      ],
      "execution_count": null,
      "outputs": [
        {
          "output_type": "error",
          "ename": "SyntaxError",
          "evalue": "ignored",
          "traceback": [
            "\u001b[0;36m  File \u001b[0;32m\"<ipython-input-30-f84af01f54b6>\"\u001b[0;36m, line \u001b[0;32m1\u001b[0m\n\u001b[0;31m    15 /7 = 2 r 1\u001b[0m\n\u001b[0m              ^\u001b[0m\n\u001b[0;31mSyntaxError\u001b[0m\u001b[0;31m:\u001b[0m invalid syntax\n"
          ]
        }
      ]
    },
    {
      "cell_type": "code",
      "metadata": {
        "colab": {
          "base_uri": "https://localhost:8080/"
        },
        "id": "z_sUZXMbUm7d",
        "outputId": "46edeeb0-5347-40ad-bb7e-eb31289170fc"
      },
      "source": [
        "a = 8\n",
        "b = 5\n",
        "\n",
        "b /=a # b = b + a\n",
        "\n",
        "print(b)"
      ],
      "execution_count": null,
      "outputs": [
        {
          "output_type": "stream",
          "name": "stdout",
          "text": [
            "0.625\n"
          ]
        }
      ]
    },
    {
      "cell_type": "code",
      "metadata": {
        "id": "rsH3WmxWVDix"
      },
      "source": [
        ""
      ],
      "execution_count": null,
      "outputs": []
    },
    {
      "cell_type": "markdown",
      "metadata": {
        "id": "R3qMynOE5SN_"
      },
      "source": [
        "++++++++++++++++++++++++++++++++++++++++++++++++++++++++++++++++++++++++++++++++++++++++++++++++++++++++++++++++++++++++\n",
        " <h1> <center> <font color = \"orange\"> [Conditional Statements] <br><font color=\"grey\"> </font></center></h1>\n",
        "\n",
        "    -----------\n",
        "    |Condition| ---> if verified-----> Take Action A\n",
        "    -----------      if not verified-> Take Action B\n",
        "    \n",
        "    --------------------------------------------\n",
        "    |Condition_1, Condition_2, ..., Condition_n| ---> if Cond_1 verified(Cond_i unverified, i!=1)-----> Take Action A_1\n",
        "    --------------------------------------------      \n",
        "                                                      else if Cond_2 verified(Cond_i unverfied, i!=2)-> Take Action A_2                                                                    \n",
        "                                                                                    .\n",
        "                                                                                    .\n",
        "                                                                                    .\n",
        "    \n",
        "                                                      else if Cond_n verified(Cond_i unverfied, i!=n)-> Take Action A_n\n",
        "    \n",
        "                                                      else if no Condition verified-------------------> Take Action A_n+1\n",
        "    \n",
        "    \n",
        "    --------\n",
        "    |Sports| ---> if verified-----> Healthy\n",
        "    --------      if not verified-> Unhealthy\n",
        "    \n",
        "    ------------------------------------------\n",
        "    |Football, Basketball, Volleyball, Tennis| ---> if Football verified(Cond_i unverified, i!=1)----------------> Kick\n",
        "    ------------------------------------------      \n",
        "                                                    else if Basketball verified(Cond_i unverfied, i!=2)----------> Throw\n",
        "              \n",
        "                                                    else if Volleyball verified(Cond_i unverfied, i!=n)----------> Hit\n",
        "    \n",
        "                                                    else if Tennis verified(Cond_i unverfied, i!=n)--------------> Strike\n",
        "    \n",
        "                                                    else if no condition(else) verified(Cond_i unverfied, i!=n)--> Unknown\n",
        "    \n",
        "    \n",
        "                                                      \n",
        "    \n",
        "    \n",
        "    \n",
        "    \n",
        "    \n",
        "+++++++++++++++++++++++++++++++++++++++++++++++++++++++++++++++++++++++++++++++++++++++++++++++++++++++++++++++++++++"
      ]
    },
    {
      "cell_type": "code",
      "metadata": {
        "id": "jZXCIbPp5Xi7"
      },
      "source": [
        "sports = False\n",
        "\n",
        "if (sports):\n",
        "    print(\"Healthy\")\n",
        "elif (sports== False):# else:\n",
        "    print(\"Not healthy\")\n"
      ],
      "execution_count": null,
      "outputs": []
    },
    {
      "cell_type": "code",
      "metadata": {
        "id": "sWI5p_lS5ahS"
      },
      "source": [
        "sports = [\"Football\", \"Basketball\", \"Volleyball\", \"Tennis\"]\n",
        "\n",
        "if (\"Football\" in sports):\n",
        "    print(\"This person plays football\")\n",
        "elif (\"Basketball\" in sports):\n",
        "    print(\"This person plays basketball\")\n",
        "elif(\"Volleyball\" in sports):\n",
        "    print(\"This person plays volleyball\")\n",
        "elif(\"Tennis\" in sports):\n",
        "    print(\"This person plays tennis\")"
      ],
      "execution_count": null,
      "outputs": []
    },
    {
      "cell_type": "code",
      "metadata": {
        "id": "0DxsNi-H5b51"
      },
      "source": [
        "sports = [\"Football\", \"Basketball\"]\n",
        "\n",
        "if (\"Football\" in sports):\n",
        "    print(\"This person plays football\")\n",
        "    if(\"Basketball\" in sports):\n",
        "        print(\"This person plays basketball\")\n",
        "        \n",
        "else:\n",
        "    if(\"Basketball\" in sports):\n",
        "        print(\"This person plays basketball\")"
      ],
      "execution_count": null,
      "outputs": []
    },
    {
      "cell_type": "code",
      "metadata": {
        "id": "ns2jVAUp5d9B"
      },
      "source": [
        "a = 5\n",
        "b = 5\n",
        "\n",
        "if (a is not  5):\n",
        "    print(\"Correct\")\n",
        "else:\n",
        "    print(\"nothing is printed\")"
      ],
      "execution_count": null,
      "outputs": []
    },
    {
      "cell_type": "markdown",
      "metadata": {
        "id": "8Aq-ANmX5jA5"
      },
      "source": [
        "++++++++++++++++++++++++++++++++++++++++++++++++++++++++++++++++++++++++++++++++++++++++++++++++++++++++++++++++++++++++\n",
        " <h1> <center> <font color = \"orange\"> [Loops] <br><font color=\"grey\"> </font></center></h1>\n",
        "\n",
        "    \n",
        "    ------------\n",
        "    - while\n",
        "    - for\n",
        "    ------------\n",
        "    \n",
        "+++++++++++++++++++++++++++++++++++++++++++++++++++++++++++++++++++++++++++++++++++++++++++++++++++++++++++++++++++++"
      ]
    },
    {
      "cell_type": "code",
      "metadata": {
        "id": "T8BBfeaf5lzN"
      },
      "source": [
        "n =5\n",
        "\n",
        "for i in range(n):\n",
        "    print(\" I am at position {}\".format(i))\n",
        "initial statement \n",
        "increment"
      ],
      "execution_count": null,
      "outputs": []
    },
    {
      "cell_type": "code",
      "metadata": {
        "id": "V6jbEaki5l-3"
      },
      "source": [
        "n = 5\n",
        "i = 0\n",
        "while(i<n):\n",
        "    \n",
        "    print(\"I am at position {}\".format(i+1))\n",
        "    i = i + 1\n",
        "    "
      ],
      "execution_count": null,
      "outputs": []
    },
    {
      "cell_type": "code",
      "metadata": {
        "id": "tUBcc1EG5pYS"
      },
      "source": [
        "sports = [\"Football\", \"Volleyball\"]\n",
        "print(len(sports))\n",
        "for i in range(len(sports)):\n",
        "    if (sports[i] is \"Football\"): \n",
        "        print(\"I am a footballer\")\n",
        "    elif(sports[i] is  \"Basketball\" ):\n",
        "        print(\" I am a basketballer\")\n",
        "    elif(sports[i] is \"Volleyball\"):\n",
        "        print(\" I am a volleyballer\")\n",
        "    "
      ],
      "execution_count": null,
      "outputs": []
    },
    {
      "cell_type": "code",
      "metadata": {
        "id": "ZdGuYM7O5rQz"
      },
      "source": [
        "sports = [\"Football\", \"Volleyball\", \"Tennis\"]\n",
        "\n",
        "for sport in sports:\n",
        "    if (sport is \"Football\"): \n",
        "        pass\n",
        "    elif(sport is \"hand\"):\n",
        "        print(\"hello\")\n",
        "        "
      ],
      "execution_count": null,
      "outputs": []
    },
    {
      "cell_type": "code",
      "metadata": {
        "id": "7ogqMyS053RC"
      },
      "source": [
        "break, pass and continue"
      ],
      "execution_count": null,
      "outputs": []
    },
    {
      "cell_type": "code",
      "metadata": {
        "id": "EnFHkeAt55J7"
      },
      "source": [
        ""
      ],
      "execution_count": null,
      "outputs": []
    },
    {
      "cell_type": "markdown",
      "metadata": {
        "id": "ZCFRDk0H6Ayv"
      },
      "source": [
        "++++++++++++++++++++++++++++++++++++++++++++++++++++++++++++++++++++++++++++++++++++++++++++++++++++++++++++++++++++++++\n",
        " <h1> <center> <font color = \"orange\"> [FUNCTIONS] <br><font color=\"grey\"> </font></center></h1>\n",
        "\n",
        "+++++++++++++++++++++++++++++++++++++++++++++++++++++++++++++++++++++++++++++++++++++++++++++++++++++++++++++++++++++"
      ]
    },
    {
      "cell_type": "code",
      "metadata": {
        "id": "2OoG-RHh6C3w"
      },
      "source": [
        "def task_A (arguments):\n",
        "    \n",
        "    return outputs"
      ],
      "execution_count": null,
      "outputs": []
    },
    {
      "cell_type": "code",
      "metadata": {
        "id": "H2DPhmwN6DAi"
      },
      "source": [
        "def sum_product(int_1, int_3, int_2=23):\n",
        "    \n",
        "    sum_of_numbers = int_1+int_2\n",
        "    product_of_numbers = int_1*int_2\n",
        "    return sum_of_numbers, product_of_numbers"
      ],
      "execution_count": null,
      "outputs": []
    },
    {
      "cell_type": "code",
      "metadata": {
        "id": "k4j9nE1g6G6D"
      },
      "source": [
        "sum_1, product_1  = sum_product(20, 11)\n",
        "print(sum_1, product_1)"
      ],
      "execution_count": null,
      "outputs": []
    },
    {
      "cell_type": "code",
      "metadata": {
        "id": "3hy9E0ly6Hea"
      },
      "source": [
        "adder = 80\n",
        "def print_name(name, age=70):\n",
        "    adder = 40\n",
        "    \n",
        "    return \"My name is :\" + name + \"  I am of age:\" + str(adder+age)\n",
        "\n",
        "def print_data(name, age=70):\n",
        "    \n",
        "    return \"My name is :\" + name + \"  I am of age:\" + str(adder+age)\n",
        "\n"
      ],
      "execution_count": null,
      "outputs": []
    },
    {
      "cell_type": "code",
      "metadata": {
        "id": "EvBvpoKN6Ho-"
      },
      "source": [
        "print(print_data(\"Joseph\", 23))\n"
      ],
      "execution_count": null,
      "outputs": []
    },
    {
      "cell_type": "code",
      "metadata": {
        "id": "zFsemeQE6Hqy"
      },
      "source": [
        "a = 4\n",
        "print(str(a))\n",
        "b = \"7\"\n",
        "c = int(b)+3\n",
        "print(c)"
      ],
      "execution_count": null,
      "outputs": []
    },
    {
      "cell_type": "code",
      "metadata": {
        "id": "e1W7UupS6DDE"
      },
      "source": [
        ""
      ],
      "execution_count": null,
      "outputs": []
    },
    {
      "cell_type": "markdown",
      "metadata": {
        "id": "WVyCEMMO9Y63"
      },
      "source": [
        "++++++++++++++++++++++++++++++++++++++++++++++++++++++++++++++++++++++++++++++++++++++++++++++++++++++++++++++++++++++++\n",
        " <h1> <center> <font color = \"orange\"> [PACKAGES] <br><font color=\"grey\"> </font></center></h1>\n",
        "    \n",
        "    \n",
        "        - Numpy\n",
        "        - Matplotlib\n",
        "        - Pandas\n",
        "        - OpenCV\n",
        "    \n",
        "    \n",
        "\n",
        "+++++++++++++++++++++++++++++++++++++++++++++++++++++++++++++++++++++++++++++++++++++++++++++++++++++++++++++++++++++"
      ]
    },
    {
      "cell_type": "code",
      "metadata": {
        "id": "cPVPhL3G9gVL"
      },
      "source": [
        "import numpy as np"
      ],
      "execution_count": null,
      "outputs": []
    },
    {
      "cell_type": "code",
      "metadata": {
        "id": "opJmZS7S9gd6"
      },
      "source": [
        "array_1D = numpy.array([1,3,5,8])\n",
        "\n",
        "array_2D_better = np.array([[2,3],\n",
        "                     [6,8],\n",
        "                     [0,9]])\n",
        "\n",
        "array_2D = np.array([[2,3],[6,8],[0,9]])\n",
        "\n"
      ],
      "execution_count": null,
      "outputs": []
    },
    {
      "cell_type": "code",
      "metadata": {
        "id": "5vbupPTs9ZHF"
      },
      "source": [
        "print(\"arrray better = \", array_2D_better.shape)\n",
        "print(\"array=\", array_2D)"
      ],
      "execution_count": null,
      "outputs": []
    },
    {
      "cell_type": "code",
      "metadata": {
        "id": "I_zC1lEG9ZJc"
      },
      "source": [
        "array_3D_better = np.array([[[2,4,8],\n",
        "                             [5,6,9]],\n",
        "                            \n",
        "                            [[8,7,5],\n",
        "                             [9,5,7]],\n",
        "                            \n",
        "                            [[2,4,0],\n",
        "                             [9,0,0]]])\n",
        "\n",
        "\n"
      ],
      "execution_count": null,
      "outputs": []
    },
    {
      "cell_type": "code",
      "metadata": {
        "id": "nYHLu3bb9ZMm"
      },
      "source": [
        "print(array_3D_better)\n",
        "print(array_3D_better.shape)"
      ],
      "execution_count": null,
      "outputs": []
    },
    {
      "cell_type": "code",
      "metadata": {
        "id": "LB7e_7hH9nsa"
      },
      "source": [
        "array_1D = numpy.array([1,31.4,5,8], dtype = int)\n",
        "print(array_1D)"
      ],
      "execution_count": null,
      "outputs": []
    },
    {
      "cell_type": "code",
      "metadata": {
        "id": "Bu-Wdu3V9nu3"
      },
      "source": [
        "a = np.ones((3,4))\n",
        "print(a)"
      ],
      "execution_count": null,
      "outputs": []
    },
    {
      "cell_type": "code",
      "metadata": {
        "id": "Tf9CuKKr9nyU"
      },
      "source": [
        "import matplotlib.pyplot as plt"
      ],
      "execution_count": null,
      "outputs": []
    },
    {
      "cell_type": "code",
      "metadata": {
        "id": "PicU-Hds9sEd"
      },
      "source": [
        "x = np.array([8,4,5,9,7,1,10,0])\n",
        "y = x**2\n",
        "print(y)"
      ],
      "execution_count": null,
      "outputs": []
    },
    {
      "cell_type": "code",
      "metadata": {
        "id": "_MCvf_fR9sG_"
      },
      "source": [
        "fig = plt.figure()\n",
        "ax = fig.add_subplot()\n",
        "\n",
        "ax.scatter(x,y, color = 'red')\n",
        "\n",
        "plt.show()"
      ],
      "execution_count": null,
      "outputs": []
    },
    {
      "cell_type": "code",
      "metadata": {
        "id": "APbeF5mD9ZPq"
      },
      "source": [
        ""
      ],
      "execution_count": null,
      "outputs": []
    },
    {
      "cell_type": "markdown",
      "metadata": {
        "id": "gnj9JVN36gju"
      },
      "source": [
        "++++++++++++++++++++++++++++++++++++++++++++++++++++++++++++++++++++++++++++++++++++++++++++++++++++++++++++++++++++++++\n",
        " <h1> <center> <font color = \"orange\"> [MATRIX ALGEBRA] <br><font color=\"grey\"> </font></center></h1>\n",
        "\n",
        "+++++++++++++++++++++++++++++++++++++++++++++++++++++++++++++++++++++++++++++++++++++++++++++++++++++++++++++++++++++"
      ]
    },
    {
      "cell_type": "code",
      "metadata": {
        "id": "0mM5uo1e6DFp"
      },
      "source": [
        "import numpy as np\n",
        "from sympy import Matrix"
      ],
      "execution_count": null,
      "outputs": []
    },
    {
      "cell_type": "code",
      "metadata": {
        "id": "iwe35Uit6vnZ"
      },
      "source": [
        "A = np.array([[4,6],\n",
        "             [3,4],\n",
        "             [1,2]], dtype = float)\n",
        "\n",
        "#print(A)\n",
        "\n",
        "#print(A[0][1])\n",
        "\n",
        "print(A[0:2,0:2])\n",
        "\n",
        "print(A.shape)\n",
        "\n",
        "A[0][1] = 'boy'\n",
        "print(A)"
      ],
      "execution_count": null,
      "outputs": []
    },
    {
      "cell_type": "code",
      "metadata": {
        "id": "SZEO2AME6yhQ"
      },
      "source": [
        "list_1 = []\n",
        "\n",
        "list_1.append(1)\n",
        "\n",
        "list_1.append('boy')\n",
        "print(list_1)"
      ],
      "execution_count": null,
      "outputs": []
    },
    {
      "cell_type": "code",
      "metadata": {
        "id": "pK-6p_5z6yjk"
      },
      "source": [
        "B = [[0]*3]*4\n",
        "\n",
        "number_of_columns = 5\n",
        "number_of_rows = 4\n",
        "B = [[5]*number_of_columns]*number_of_rows\n",
        "print(B)\n",
        "#B.append([3,5,4,6,7,78,8.9])\n",
        "#print(B)\n",
        "print(np.array(B))\n",
        "C = np.array(B)\n",
        "\n",
        "print(list(C))"
      ],
      "execution_count": null,
      "outputs": []
    },
    {
      "cell_type": "code",
      "metadata": {
        "id": "Ppk14UBF6yl-"
      },
      "source": [
        "A = np.random.random((4,3))\n",
        "print(A)\n",
        "B = np.random.random((3,3))\n",
        "print(B)\n",
        "\n",
        "print(A+B)"
      ],
      "execution_count": null,
      "outputs": []
    },
    {
      "cell_type": "code",
      "metadata": {
        "id": "CCV89DOh6yoQ"
      },
      "source": [
        ""
      ],
      "execution_count": null,
      "outputs": []
    },
    {
      "cell_type": "code",
      "metadata": {
        "id": "bw7UBcQy6yqp"
      },
      "source": [
        "C = np.array([[2,3],\n",
        "              [5,2],\n",
        "              [0,1]])\n",
        "\n",
        "D = np.array([[2,4],\n",
        "              [3,2]])\n",
        "\n",
        "#print(C*D)\n",
        "\n",
        "print(np.matmul(C,D))"
      ],
      "execution_count": null,
      "outputs": []
    },
    {
      "cell_type": "code",
      "metadata": {
        "id": "e-IzAauF6ys8"
      },
      "source": [
        "E  = np.array([[4,1,2],\n",
        "               [7,4,4]])\n",
        "\n",
        "print(E)\n",
        "print(E.T)\n",
        "print(np.transpose(E))"
      ],
      "execution_count": null,
      "outputs": []
    },
    {
      "cell_type": "code",
      "metadata": {
        "id": "vlOsdJA_6yvJ"
      },
      "source": [
        "A = np.array([[2,4,9],\n",
        "            [7,2,1],\n",
        "            [9,4,1]])\n"
      ],
      "execution_count": null,
      "outputs": []
    },
    {
      "cell_type": "code",
      "metadata": {
        "id": "2BCQDlil6yxq"
      },
      "source": [
        "\n",
        "print(np.linalg.inv(A))"
      ],
      "execution_count": null,
      "outputs": []
    },
    {
      "cell_type": "code",
      "metadata": {
        "id": "H-wljV0C6y0C"
      },
      "source": [
        ""
      ],
      "execution_count": null,
      "outputs": []
    },
    {
      "cell_type": "markdown",
      "metadata": {
        "id": "0gVQCSqo6_2h"
      },
      "source": [
        "++++++++++++++++++++++++++++++++++++++++++++++++++++++++++++++++++++++++++++++++++++++++++++++++++++++++++++++++++++++++\n",
        " <h1> <center> <font color = \"orange\"> [LINEAR TRANSFORMATIONS] <br><font color=\"grey\"> </font></center></h1>\n",
        "\n",
        "+++++++++++++++++++++++++++++++++++++++++++++++++++++++++++++++++++++++++++++++++++++++++++++++++++++++++++++++++++++"
      ]
    },
    {
      "cell_type": "code",
      "metadata": {
        "id": "6KQdjHWf7GEc"
      },
      "source": [
        "import numpy as np\n",
        "import matplolib.pyplot as plt"
      ],
      "execution_count": null,
      "outputs": []
    },
    {
      "cell_type": "code",
      "metadata": {
        "id": "wQXTx3Cg7GNz"
      },
      "source": [
        "def T(x_1, x_2, x_3, x_4 ):\n",
        "    \n",
        "    return x_1 + x_2 , x_1 + x_2 + x_3 ,  x_1 + x_2 + x_3 + x_4 , x_4 "
      ],
      "execution_count": null,
      "outputs": []
    },
    {
      "cell_type": "code",
      "metadata": {
        "id": "9qSRFtCb6y2T"
      },
      "source": [
        "print(T(10,4,5, 3))"
      ],
      "execution_count": null,
      "outputs": []
    },
    {
      "cell_type": "code",
      "metadata": {
        "id": "bqeSV-9u7oaa"
      },
      "source": [
        "def T(x_1, x_2, x_3, x_4 ):\n",
        "    \n",
        "    M_T = np.array([[1,1,0,0],\n",
        "                    [1,1,1,0],\n",
        "                    [1,1,1,1],\n",
        "                    [0,0,0,1]])\n",
        "    \n",
        "    x = np.array([x_1, x_2, x_3, x_4])\n",
        "    \n",
        "    return  np.matmul(M_T, x)"
      ],
      "execution_count": null,
      "outputs": []
    },
    {
      "cell_type": "code",
      "metadata": {
        "id": "ynX5O2SM7okT"
      },
      "source": [
        "print(T(10,4,5, 3))"
      ],
      "execution_count": null,
      "outputs": []
    },
    {
      "cell_type": "code",
      "metadata": {
        "id": "uGZFyuvX7om3"
      },
      "source": [
        "def Rotation(x_1, x_2 , angle):\n",
        "    \n",
        "    M_T = np.array([[np.cos(angle), -np.sin(angle)],\n",
        "                    [np.sin(angle), np.cos(angle)]])\n",
        "    \n",
        "    return np.matmul(M_T, [x_1,x_2])"
      ],
      "execution_count": null,
      "outputs": []
    },
    {
      "cell_type": "code",
      "metadata": {
        "id": "SYR_Gc8c7opr"
      },
      "source": [
        "number_of_points = 10\n",
        "\n",
        "x = []\n",
        "y = []\n",
        "\n",
        "x_transformed = []\n",
        "y_transformed = []\n",
        "\n",
        "for i in range(number_of_points):\n",
        "    x.append(i)\n",
        "    y.append(i)\n",
        "    \n",
        "    x_component, y_component = Rotation(i,i, np.pi/2)\n",
        "    x_transformed.append(x_component)\n",
        "    y_transformed.append(y_component)\n",
        "    \n",
        "fig = plt.figure()\n",
        "\n",
        "ax = fig.add_subplot()\n",
        "ay = fig.add_subplot()\n",
        "\n",
        "ax.scatter(x,y,c='r', marker ='*')\n",
        "ay.scatter(x_transformed, y_transformed, c='g', marker = '*')\n",
        "\n",
        "plt.show()"
      ],
      "execution_count": null,
      "outputs": []
    },
    {
      "cell_type": "code",
      "metadata": {
        "id": "ERnnl7iL7tfV"
      },
      "source": [
        ""
      ],
      "execution_count": null,
      "outputs": []
    },
    {
      "cell_type": "markdown",
      "metadata": {
        "id": "xBbks-re8DTK"
      },
      "source": [
        "++++++++++++++++++++++++++++++++++++++++++++++++++++++++++++++++++++++++++++++++++++++++++++++++++++++++++++++++++++++++\n",
        " <h1> <center> <font color = \"orange\"> [VECTOR SPACES] <br><font color=\"grey\"> </font></center></h1>\n",
        "\n",
        "+++++++++++++++++++++++++++++++++++++++++++++++++++++++++++++++++++++++++++++++++++++++++++++++++++++++++++++++++++++"
      ]
    },
    {
      "cell_type": "code",
      "metadata": {
        "id": "n-HeItib7toG"
      },
      "source": [
        "import numpy as np\n",
        "from sympy import Matrix\n",
        "\n",
        "import matplotlib.pyplot as plt\n",
        "from matplotlib.patches import Polygon\n",
        "from matplotlib.collections import PatchCollection\n",
        "import matplotlib"
      ],
      "execution_count": null,
      "outputs": []
    },
    {
      "cell_type": "code",
      "metadata": {
        "id": "CUArFuSs8H-A"
      },
      "source": [
        "B = Matrix([[1,2,3],\n",
        "            [3,5,1]])\n",
        "\n",
        "#print(B.rref())\n",
        "RREF = B.rref()\n",
        "\n",
        "print(RREF[0])\n",
        "print(RREF[1])"
      ],
      "execution_count": null,
      "outputs": []
    },
    {
      "cell_type": "code",
      "metadata": {
        "id": "1OuUbUY_8IAP"
      },
      "source": [
        "def fundamental_subspaces(A):\n",
        "    \n",
        "    A = Matrix(A)# We get the matrix A\n",
        "    A_arr = np.array(A)# We get the numpy array\n",
        "    \n",
        "    RREF = A.rref() # We obtain the row reduced echelon form of A\n",
        "\n",
        "    null_space = A.nullspace() # We obtain the null space of A\n",
        "\n",
        "    left_null_space = A.T.nullspace() # We obtain the left null space of A\n",
        "\n",
        "    col_space = [] # Initialization of a list which will contain all the vectors found in the column space of A\n",
        "    \n",
        "    \n",
        "    for i in RREF[1]:\n",
        "\n",
        "        col_space.append(A_arr[:,i]) # Addition of each element of the column space of A to the list col_space\n",
        "\n",
        "    row_space = []  # Initialization of a list which will contain all the vectors found in the row space of A\n",
        "    RREF_t = A.T.rref()\n",
        "\n",
        "    for i in RREF_t[1]:\n",
        "\n",
        "        row_space.append(A_arr[i])# Addition of each element of the row space of A to the list row_space\n",
        "    return null_space, row_space, left_null_space, col_space # returning the fundamental spaces of A"
      ],
      "execution_count": null,
      "outputs": []
    },
    {
      "cell_type": "code",
      "metadata": {
        "id": "dl78Tn778ICW"
      },
      "source": [
        "\n",
        "A = [[2,2,5],\n",
        "     [-2,3,-3],\n",
        "     [4,5,9],\n",
        "     [-2,3,3]]\n",
        "null_space, row_space, left_null_space, col_space = fundamental_subspaces(A)\n",
        "\n",
        "print(\" Number of rows of A = m ={} = dim(Col(A)) + dim(Left Null(A))= {} + {} \" .format(len(A), len(col_space), len(left_null_space)))\n",
        "print(\" Number of columns of A = n ={} = dim(Row(A)) + dim(Null(A))= {} + {} \" .format(len(A[0]), len(row_space), len(null_space)))\n",
        "print(\"\\n\")\n",
        "print(\"The Null space is = \\n\", null_space)\n",
        "print(\"\\n\")\n",
        "print(\"The Row space is = \\n\", row_space)\n",
        "print(\"\\n\")\n",
        "print(\"The Left Null space is = \\n\", left_null_space)\n",
        "print(\"\\n\")\n",
        "print(\"The Column space is = \\n\", col_space)\n"
      ],
      "execution_count": null,
      "outputs": []
    },
    {
      "cell_type": "code",
      "metadata": {
        "id": "4JWod83O8IEy"
      },
      "source": [
        "\n",
        "size = 25\n",
        "limits = 5\n",
        "patches = []\n",
        "new_patches = []\n",
        "original_polygon_points = []\n",
        "new_polygon_points = []\n",
        "B = np.array([[3,8],\n",
        "              [0,5]])\n",
        "\n",
        "\n",
        "\n",
        "for i in range( -(limits*limits), (limits*limits)):\n",
        "    for j in range(-(limits*limits), (limits*limits)):\n",
        "        \n",
        "        first_point = [i+1,j+1]\n",
        "        second_point = [i, j+1]\n",
        "        third_point = [i,j]\n",
        "        fourth_point = [i+1,j]\n",
        "        \n",
        "        new_polygon_points.append([np.matmul(B,first_point) ,np.matmul(B,second_point),np.matmul(B,third_point),np.matmul(B,fourth_point) ])\n",
        "        \n",
        "for i in range( -(limits*limits), (limits*limits)):\n",
        "    for j in range(-(limits*limits), (limits*limits)):\n",
        "        original_polygon_points.append([[i+1,j+1],[i,j+1],[i,j],[i+1, j] ])\n",
        "        \n",
        "for i in range(len(original_polygon_points)):\n",
        "    polygon = Polygon(original_polygon_points[i])\n",
        "    patches.append(polygon)\n",
        "    \n",
        "for i in range(len(new_polygon_points)):\n",
        "    polygon = Polygon(new_polygon_points[i])\n",
        "    new_patches.append(polygon)\n",
        "    \n",
        "p1 = PatchCollection(patches, cmap = matplotlib.cm.jet, fc = 'white', ec = 'black' , alpha = 0.3)\n",
        "p2 = PatchCollection(new_patches, cmap = matplotlib.cm.jet, fc = 'white', ec = 'red' , alpha = 0.8)\n",
        "\n",
        "\n",
        "\n",
        "fig = plt.figure()\n",
        "fig.set_size_inches(size, size)\n",
        "ax = plt.subplot()\n",
        "\n",
        "ax.add_collection(p1)\n",
        "ax.add_collection(p2)\n",
        "ax.set_ylim(bottom = -size, top = size)\n",
        "ax.set_xlim(left = -size, right = size)\n",
        "plt.savefig('change_of_base.png')\n",
        "plt.show()"
      ],
      "execution_count": null,
      "outputs": []
    },
    {
      "cell_type": "code",
      "metadata": {
        "id": "f6ap4y2A8IHL"
      },
      "source": [
        ""
      ],
      "execution_count": null,
      "outputs": []
    },
    {
      "cell_type": "markdown",
      "metadata": {
        "id": "BEIa58ay8WGL"
      },
      "source": [
        "++++++++++++++++++++++++++++++++++++++++++++++++++++++++++++++++++++++++++++++++++++++++++++++++++++++++++++++++++++++++\n",
        " <h1> <center> <font color = \"orange\"> [ORTHOGONALITY] <br><font color=\"grey\"> </font></center></h1>\n",
        "\n",
        "+++++++++++++++++++++++++++++++++++++++++++++++++++++++++++++++++++++++++++++++++++++++++++++++++++++++++++++++++++++"
      ]
    },
    {
      "cell_type": "code",
      "metadata": {
        "id": "o2bLCrST7tqs"
      },
      "source": [
        "import numpy as np"
      ],
      "execution_count": null,
      "outputs": []
    },
    {
      "cell_type": "code",
      "metadata": {
        "id": "WdPVOaCx8ZeM"
      },
      "source": [
        "A = np.array([[2,3,4,9,0],\n",
        "             [2,1,9,5,7],\n",
        "             [2,7,1,0,0],\n",
        "             [9,8,0,-1,-2]])"
      ],
      "execution_count": null,
      "outputs": []
    },
    {
      "cell_type": "code",
      "metadata": {
        "id": "dFAyBb7Q8Zgn"
      },
      "source": [
        "print(A)"
      ],
      "execution_count": null,
      "outputs": []
    },
    {
      "cell_type": "code",
      "metadata": {
        "id": "ZFqcgJiO8ZjD"
      },
      "source": [
        "qr decomposition of A = q which is orthonormal and r which is upper triangular"
      ],
      "execution_count": null,
      "outputs": []
    },
    {
      "cell_type": "code",
      "metadata": {
        "id": "mfWLg6hR8ZlV"
      },
      "source": [
        "Q,R = np.linalg.qr(A)\n",
        "\n",
        "print(Q)\n",
        "print(R)"
      ],
      "execution_count": null,
      "outputs": []
    },
    {
      "cell_type": "code",
      "metadata": {
        "id": "euh04AGW8ZoE"
      },
      "source": [
        "AX= b\n",
        "X = (ATA)-1 AT b\n"
      ],
      "execution_count": null,
      "outputs": []
    },
    {
      "cell_type": "code",
      "metadata": {
        "id": "Um9l67YP8hQp"
      },
      "source": [
        "def normal_equation(A,b):\n",
        "    \n",
        "    ATA = np.matmul(A.T, A)\n",
        "    \n",
        "    X = np.matmul(np.matmul(np.linalg.inv(ATA), A.T), b)\n",
        "    return X"
      ],
      "execution_count": null,
      "outputs": []
    },
    {
      "cell_type": "code",
      "metadata": {
        "id": "q2hxWOEx8hSw"
      },
      "source": [
        "A = np.array([[2,3],\n",
        "             [0,1],\n",
        "             [3,5]])\n",
        "\n",
        "b = np.array([[1],\n",
        "              [4],\n",
        "              [1]])\n",
        "X = normal_equation(A,b)\n",
        "print(X)\n"
      ],
      "execution_count": null,
      "outputs": []
    },
    {
      "cell_type": "code",
      "metadata": {
        "id": "JM6u5UpG8hVX"
      },
      "source": [
        ""
      ],
      "execution_count": null,
      "outputs": []
    },
    {
      "cell_type": "markdown",
      "metadata": {
        "id": "aMSgLCyH8upr"
      },
      "source": [
        "++++++++++++++++++++++++++++++++++++++++++++++++++++++++++++++++++++++++++++++++++++++++++++++++++++++++++++++++++++++++\n",
        " <h1> <center> <font color = \"orange\"> [DETERMINANT AND TRACE OPERATOR] <br><font color=\"grey\"> </font></center></h1>\n",
        "\n",
        "+++++++++++++++++++++++++++++++++++++++++++++++++++++++++++++++++++++++++++++++++++++++++++++++++++++++++++++++++++++"
      ]
    },
    {
      "cell_type": "code",
      "metadata": {
        "id": "3La_NzwY8hXq"
      },
      "source": [
        "import numpy as np"
      ],
      "execution_count": null,
      "outputs": []
    },
    {
      "cell_type": "code",
      "metadata": {
        "id": "v94KXsgF8yoc"
      },
      "source": [
        "\n",
        "A = np.array([[3,2,1],\n",
        "              [-1,3,0],\n",
        "              [2,2,5]])\n",
        "\n",
        "print(\"The determinant of A is = \\n\", np.linalg.det(A))\n"
      ],
      "execution_count": null,
      "outputs": []
    },
    {
      "cell_type": "code",
      "metadata": {
        "id": "hZO6UdWZ8yrA"
      },
      "source": [
        "#sqrt(tr(AAT)) = frobenius(A)\n",
        "A = np.array([[30,2,1],\n",
        "              [1,31,0],\n",
        "              [20,21,50]])\n",
        "print(\"The trace of A is = \\n\", np.trace(A))\n",
        "\n",
        "print(\"The square root of trace of A(AT) is = \\n\", np.sqrt(np.trace(np.matmul(A, A.T))))\n",
        "\n",
        "print(\"The frobenius norm of A is = \\n\", np.linalg.norm(A, 'fro'))"
      ],
      "execution_count": null,
      "outputs": []
    },
    {
      "cell_type": "code",
      "metadata": {
        "id": "Z6WBON358yto"
      },
      "source": [
        "def triple_product(A,B,C):\n",
        "    \n",
        "    return np.matmul(np.matmul(A,B),C)"
      ],
      "execution_count": null,
      "outputs": []
    },
    {
      "cell_type": "code",
      "metadata": {
        "id": "L4SIO-8o838e"
      },
      "source": [
        "\n",
        "A = np.array([[3,2,1],\n",
        "              [-1,3,0],\n",
        "              [2,2,5]])\n",
        "B = np.array([[4,2,-1],\n",
        "              [1,-3,40],\n",
        "              [12,22,15]])\n",
        "C = np.array([[0,7,14],\n",
        "              [-10,13,0],\n",
        "              [20,0,0]])\n",
        "\n",
        "print(\"The trace of ABC is = \\n\", np.trace(triple_product(A,B,C)))\n",
        "print(\"The trace of BCA is = \\n\", np.trace(triple_product(B,C,A)))\n",
        "print(\"The trace of CAB is = \\n\", np.trace(triple_product(C,A,B)))\n",
        "\n",
        "print(\"The trace of BAC is = \\n\", np.trace(triple_product(B,A,C)))\n",
        "\n",
        "\n"
      ],
      "execution_count": null,
      "outputs": []
    },
    {
      "cell_type": "code",
      "metadata": {
        "id": "MHCbkoQ383-4"
      },
      "source": [
        "tr(ABC) = tr(BCA) =tr(CAB)      != tr(BAC)"
      ],
      "execution_count": null,
      "outputs": []
    },
    {
      "cell_type": "code",
      "metadata": {
        "id": "_h-KP1-b84BU"
      },
      "source": [
        ""
      ],
      "execution_count": null,
      "outputs": []
    },
    {
      "cell_type": "markdown",
      "metadata": {
        "id": "j9L2RTCn89uR"
      },
      "source": [
        "++++++++++++++++++++++++++++++++++++++++++++++++++++++++++++++++++++++++++++++++++++++++++++++++++++++++++++++++++++++++\n",
        " <h1> <center> <font color = \"orange\"> [MATRIX DECOMPOSITIONS] <br><font color=\"grey\"> </font></center></h1>\n",
        "\n",
        "+++++++++++++++++++++++++++++++++++++++++++++++++++++++++++++++++++++++++++++++++++++++++++++++++++++++++++++++++++++"
      ]
    },
    {
      "cell_type": "code",
      "metadata": {
        "id": "Sh0KYmIr84Dz"
      },
      "source": [
        "import numpy as np\n",
        "from numpy.linalg import inv"
      ],
      "execution_count": null,
      "outputs": []
    },
    {
      "cell_type": "code",
      "metadata": {
        "id": "F5VmYKls8ywB"
      },
      "source": [
        "A  = np.array([[1,2],\n",
        "              [3,4]])\n",
        "\n",
        "eigen_values, eigen_vectors = np.linalg.eig(A)\n",
        "\n",
        "print(eigen_values)\n",
        "print(eigen_vectors)"
      ],
      "execution_count": null,
      "outputs": []
    },
    {
      "cell_type": "code",
      "metadata": {
        "id": "vOs7TAfN9DKd"
      },
      "source": [
        "\n",
        "A = [[0.5,0.5],\n",
        "     [0.2,0.8]]\n",
        "\n",
        "\n",
        "eigen_values, eigen_vectors = np.linalg.eig(A)\n",
        "\n",
        "print(\"The Eigen values of A are  = \\n\", eigen_values)\n",
        "\n",
        "print(\"The Eigen vectors of A are = \\n\", eigen_vectors, \"\\n\")\n",
        "\n",
        "\n",
        "diag_A = [[eigen_values[0],0],\n",
        "          [0,eigen_values[1]]]\n",
        "\n",
        "print(\"the diag is = \", diag_A)\n",
        "\n",
        "\n",
        "A_reconstructed = np.matmul(np.matmul(eigen_vectors, diag_A), inv(eigen_vectors))\n",
        "\n",
        "print(\" A = \", np.array(A))\n",
        "print(\"A reconstructed is = \", A_reconstructed)"
      ],
      "execution_count": null,
      "outputs": []
    },
    {
      "cell_type": "code",
      "metadata": {
        "id": "uOtPuO8a9DM3"
      },
      "source": [
        "U = np.array([[-0.93,-0.7],\n",
        "              [0.37, -0.7]])\n",
        "D = np.array([[0,0],\n",
        "              [0,1]])\n",
        "print(np.matmul(np.matmul(U,D),inv(U)))"
      ],
      "execution_count": null,
      "outputs": []
    },
    {
      "cell_type": "code",
      "metadata": {
        "id": "Ci25E6Y29DPZ"
      },
      "source": [
        "\n",
        "\n",
        "A = [[4,2],\n",
        "     [1,3]]\n",
        "\n",
        "\n",
        "eigen_values, eigen_vectors = np.linalg.eig(A)\n",
        "\n",
        "print(\"The Eigen values of A are  = \\n\", eigen_values)\n",
        "\n",
        "print(\"The Eigen vectors of A are = \\n\", eigen_vectors, \"\\n\")\n",
        "\n",
        "A_to_power_n = A\n",
        "n = 3\n",
        "\n",
        "for i in range(n-1):\n",
        "    A_to_power_n = np.matmul(A_to_power_n, A)\n",
        "\n",
        "diag_A = [[np.power((eigen_values[0]/(np.sqrt(1))), n),0],\n",
        "          [0,np.power((eigen_values[1]/(np.sqrt(1))), n)]]\n",
        "\n",
        "print(\"the diag is = \", diag_A)\n",
        "eigen_vectors_rearranged = eigen_vectors\n",
        "\n",
        "A_reconstructed = np.matmul(np.matmul(eigen_vectors_rearranged, diag_A), inv(eigen_vectors_rearranged))\n",
        "\n",
        "print(\"The original A ^ {} is =\\n\".format(n), A_to_power_n, \"\\n\")\n",
        "\n",
        "print(\"A reconstructed is = \\n\", A_reconstructed)\n"
      ],
      "execution_count": null,
      "outputs": []
    },
    {
      "cell_type": "code",
      "metadata": {
        "id": "UEpeP71m9DR7"
      },
      "source": [
        "A = np.array([[16,-8,-4],\n",
        "              [-8,29,12],\n",
        "              [-4,12,41]])\n",
        "eigen_values, _ = np.linalg.eig(A)\n",
        "\n",
        "print(eigen_values)\n",
        "\n",
        "L = np.linalg.cholesky(A)\n",
        "print(L)\n",
        "print(L.T)\n",
        "print(np.matmul(L,L.T))"
      ],
      "execution_count": null,
      "outputs": []
    },
    {
      "cell_type": "code",
      "metadata": {
        "id": "Rn7SLb9g9DUA"
      },
      "source": [
        "\n",
        "A = np.array([[1,-1],\n",
        "              [-2, 2], \n",
        "              [2, -2]])\n",
        "\n",
        "u, s, vh = np.linalg.svd(A)\n",
        "print(\"The value of U is =\\n\",u,\"\\n\")\n",
        "print(\"The singular values are =\", s,\"\\n\")\n",
        "print(\"The value of V.T is =\\n\", vh)\n"
      ],
      "execution_count": null,
      "outputs": []
    },
    {
      "cell_type": "code",
      "metadata": {
        "id": "9g-SH5FG9R4p"
      },
      "source": [
        "\n",
        "\n",
        "def get_rank(A):\n",
        "    \n",
        "\n",
        "    u, s, vh = np.linalg.svd(A, full_matrices=True)\n",
        "    rank = 0\n",
        "    for i in s:\n",
        "        if i!=0.0:\n",
        "            rank += 1\n",
        "    return rank\n",
        "def get_col_space(A):\n",
        "    \n",
        "    rank = get_rank(A)\n",
        "    \n",
        "    col_space = np.transpose(A)[0:rank]\n",
        "    \n",
        "    \n",
        "    \n",
        "    return col_space\n",
        "\n",
        "def get_null_space(A):\n",
        "    \n",
        "    rank = get_rank(A)\n",
        "    \n",
        "    col_space = np.transpose(A)[rank:len(A.T)]\n",
        "    \n",
        "    \n",
        "    \n",
        "    return col_space"
      ],
      "execution_count": null,
      "outputs": []
    },
    {
      "cell_type": "code",
      "metadata": {
        "id": "U_2WB63I9R7F"
      },
      "source": [
        ""
      ],
      "execution_count": null,
      "outputs": []
    },
    {
      "cell_type": "markdown",
      "metadata": {
        "id": "yo2bUr9B-sHQ"
      },
      "source": [
        "++++++++++++++++++++++++++++++++++++++++++++++++++++++++++++++++++++++++++++++++++++++++++++++++++++++++++++++++++++++++\n",
        " <h1> <center> <font color = \"orange\"> [LINEAR REGRESSION] <br><font color=\"grey\"> </font></center></h1>\n",
        "\n",
        "+++++++++++++++++++++++++++++++++++++++++++++++++++++++++++++++++++++++++++++++++++++++++++++++++++++++++++++++++++++"
      ]
    },
    {
      "cell_type": "code",
      "metadata": {
        "id": "c5yxH2IP-wuH"
      },
      "source": [
        "'''\n",
        "Import of Useful Packages\n",
        "'''\n",
        "\n",
        "%matplotlib inline\n",
        "import numpy as np\n",
        "import matplotlib.pyplot as plt\n",
        "from numpy.linalg import inv\n",
        "import pandas as pd\n",
        "import random\n",
        "import statistics"
      ],
      "execution_count": null,
      "outputs": []
    },
    {
      "cell_type": "code",
      "metadata": {
        "id": "1JbBQsN9-4V5"
      },
      "source": [
        "def normal_equation_solution(B,y):\n",
        "    '''\n",
        "    Inputs: B (m by n matrix), y (m by 1 matrix)\n",
        "    \n",
        "    Bx = y\n",
        "    Im = O\n",
        "    \n",
        "    Output: x'min  = (BTB)-1 (BT)(y)\n",
        "    \n",
        "    '''\n",
        "    \n",
        "    BTB = np.matmul(B.T, B)\n",
        "    BTBinvBT = np.matmul(inv(BTB), B.T)\n",
        "    x_prime_min = np.matmul(BTBinvBT,y)\n",
        "    \n",
        "    return x_prime_min"
      ],
      "execution_count": null,
      "outputs": []
    },
    {
      "cell_type": "code",
      "metadata": {
        "id": "yfPTXlWl-4YN"
      },
      "source": [
        "\n",
        "B = np.array([[4,1],\n",
        "              [0,1],\n",
        "              [1,1]])\n",
        "\n",
        "y = np.array([[1],\n",
        "              [3],\n",
        "              [1]])\n",
        "print(y.shape)\n",
        "print(normal_equation_solution(B,y))\n"
      ],
      "execution_count": null,
      "outputs": []
    },
    {
      "cell_type": "code",
      "metadata": {
        "id": "i0rB-lJB-4ag"
      },
      "source": [
        "train_data = output_data_from_file(\"D:/neuralearn.ai/Linear Algebra for Machine Learning/LINEAR REGRESSION/train.csv\")\n",
        "\n",
        "train_data = np.array(train_data)\n",
        "print(train_data[:,1:])\n",
        "#print(train_data[0:100,:])"
      ],
      "execution_count": null,
      "outputs": []
    },
    {
      "cell_type": "code",
      "metadata": {
        "id": "6NOJKQ4S-4cp"
      },
      "source": [
        "def data_processing(train_data):\n",
        "    \n",
        "    '''\n",
        "    Input: extracted from csv file which is train data\n",
        "    \n",
        "    Ouputs: MsSubClass, LotFrontage, LotArwea and Saleprice\n",
        "    \n",
        "    \n",
        "    '''\n",
        "\n",
        "    MsSubClass =train_data[:,1]\n",
        "\n",
        "    LotFrontage = []\n",
        "    for i in range(len(train_data[:,2])):\n",
        "\n",
        "        if (np.isnan(train_data[:,2][i])):\n",
        "            LotFrontage.append(random.randrange(0,125))\n",
        "        else:\n",
        "            LotFrontage.append(train_data[:,2][i])\n",
        "\n",
        "    LotArea =train_data[:,3]\n",
        "\n",
        "\n",
        "    SalePrice = train_data[:,4]\n",
        "    \n",
        "    return MsSubClass, LotFrontage, LotArea, SalePrice"
      ],
      "execution_count": null,
      "outputs": []
    },
    {
      "cell_type": "code",
      "metadata": {
        "id": "TZ13poYv-4e6"
      },
      "source": [
        "MsSubClass, LotFrontage, LotArea, SalePrice = data_processing(train_data)\n",
        "\n",
        "plt.scatter(MsSubClass, SalePrice)\n",
        "plt.show()\n",
        "\n",
        "plt.scatter(LotFrontage, SalePrice)\n",
        "plt.show()\n",
        "\n",
        "plt.scatter(LotArea, SalePrice)\n",
        "plt.show()\n"
      ],
      "execution_count": null,
      "outputs": []
    },
    {
      "cell_type": "code",
      "metadata": {
        "id": "imNP9Dc3_T5z"
      },
      "source": [
        "I = np.array([MsSubClass, LotFrontage, LotArea])\n",
        "print(I.shape)\n",
        "I = I.T\n",
        "print(I.shape)\n",
        "\n",
        "\n",
        "O = np.array(SalePrice)\n",
        "print(O.shape)\n"
      ],
      "execution_count": null,
      "outputs": []
    },
    {
      "cell_type": "code",
      "metadata": {
        "id": "n2BcQGxg-4hY"
      },
      "source": [
        "#m = weights\n",
        "print(\"The normal equation solution is m =  \", normal_equation_solution(I,O))"
      ],
      "execution_count": null,
      "outputs": []
    },
    {
      "cell_type": "code",
      "metadata": {
        "id": "SpKnv5yB-4j_"
      },
      "source": [
        "print(I.shape)\n",
        "\n",
        "I_train = I[:1450,:]\n",
        "O_train = O[:1450]\n",
        "\n",
        "I_test = I[1450:,:]\n",
        "O_test = O[1450:]\n",
        "print(O_test)\n"
      ],
      "execution_count": null,
      "outputs": []
    },
    {
      "cell_type": "code",
      "metadata": {
        "id": "aQ6ui9Qg_cc2"
      },
      "source": [
        "weights = normal_equation_solution(I_train,O_train)\n",
        "print(\"The normal equation solution is = \", normal_equation_solution(I_train,O_train))"
      ],
      "execution_count": null,
      "outputs": []
    },
    {
      "cell_type": "code",
      "metadata": {
        "id": "zW6TbxM1_pWQ"
      },
      "source": [
        "print(SalePrice[1450:])"
      ],
      "execution_count": null,
      "outputs": []
    },
    {
      "cell_type": "code",
      "metadata": {
        "id": "6xHxNWqV_cfc"
      },
      "source": [
        "O_test_approximation = np.matmul(I_test,weights)\n",
        "#print(O_test_approximation)\n",
        "error = 0\n",
        "for i in range(len(O_test_approximation)):\n",
        "    \n",
        "    print(\"----> \",O_test[i],\"---\",  O_test_approximation[i])\n",
        "    \n",
        "    error = error+ (O_test[i]-O_test_approximation[i])**2"
      ],
      "execution_count": null,
      "outputs": []
    },
    {
      "cell_type": "code",
      "metadata": {
        "id": "bgHKQ-of_0P1"
      },
      "source": [
        "print(\"The total test error = \", np.sqrt(error)) "
      ],
      "execution_count": null,
      "outputs": []
    },
    {
      "cell_type": "code",
      "metadata": {
        "id": "g24IatRx_ciF"
      },
      "source": [
        "training_data = np.array([MsSubClass, LotFrontage, LotArea])\n",
        "print(training_data.T)"
      ],
      "execution_count": null,
      "outputs": []
    },
    {
      "cell_type": "code",
      "metadata": {
        "id": "uvcAR2xX_ckh"
      },
      "source": [
        "training_data = training_data.T"
      ],
      "execution_count": null,
      "outputs": []
    },
    {
      "cell_type": "code",
      "metadata": {
        "id": "lH6eTP3qAHut"
      },
      "source": [
        "train_data = training_data\n",
        "print(train_data)"
      ],
      "execution_count": null,
      "outputs": []
    },
    {
      "cell_type": "code",
      "metadata": {
        "id": "zY5uBFK5AEcA"
      },
      "source": [
        "def standardize(X):\n",
        "    '''\n",
        "    Inputs: X\n",
        "    Ouputs: Xstandardized, means\n",
        "    '''\n",
        "    \n",
        "    means = [0]*3\n",
        "    \n",
        "    for i in range(3):\n",
        "\n",
        "        means[i] = statistics.mean(X[:,i])\n",
        "    print(means)\n",
        "    for i in range(1460):\n",
        "        for j in range(3):\n",
        "            \n",
        "            X[i][j] = (X[i][j] - means[j])/255\n",
        "\n",
        "    return X,means"
      ],
      "execution_count": null,
      "outputs": []
    },
    {
      "cell_type": "code",
      "metadata": {
        "id": "DaKNdOQGAEel"
      },
      "source": [
        "def get_eigs(X):\n",
        "    '''\n",
        "    Input: X\n",
        "    Outputs: Eigen valuea and the eigen vectors of xxT\n",
        "    '''\n",
        "    \n",
        "    eigen_values, eigen_vectors = np.linalg.eigh(get_covariance_matrix(X))\n",
        "    \n",
        "    eigen_values, eigen_vectors = sort_eigs(eigen_values,eigen_vectors)\n",
        "    \n",
        "    singular_values =  square_root(eigen_values)\n",
        "    return singular_values, eigen_vectors"
      ],
      "execution_count": null,
      "outputs": []
    },
    {
      "cell_type": "code",
      "metadata": {
        "id": "QpOnpDeo_cms"
      },
      "source": [
        "def get_covariance_matrix(X):\n",
        "    return np.matmul(X.T,X)"
      ],
      "execution_count": null,
      "outputs": []
    },
    {
      "cell_type": "code",
      "metadata": {
        "id": "uoljC4nCBkVz"
      },
      "source": [
        "def sort_eigs(eigen_values,eigen_vectors):\n",
        "    sorted_indices = eigen_values.argsort()[::-1]\n",
        "    eigen_values = eigen_values[sorted_indices]\n",
        "    eigen_vectors = eigen_vectors[:,sorted_indices]\n",
        "    \n",
        "    return eigen_values, eigen_vectors"
      ],
      "execution_count": null,
      "outputs": []
    },
    {
      "cell_type": "code",
      "metadata": {
        "id": "GZU51n3uBkYg"
      },
      "source": [
        "def square_root(eigen_values):\n",
        "    singular_values =  [0]*len(eigen_values)\n",
        "    \n",
        "    for i in range(len(eigen_values)):\n",
        "        \n",
        "        if eigen_values[i]<0:\n",
        "            singular_values[i] = 0\n",
        "        else:\n",
        "            singular_values[i] = np.sqrt(eigen_values[i])\n",
        "    \n",
        "    return singular_values"
      ],
      "execution_count": null,
      "outputs": []
    },
    {
      "cell_type": "code",
      "metadata": {
        "id": "COYoeOV3BkbB"
      },
      "source": [
        "def get_rank (eigen_values):\n",
        "    threshold = 0.0000001\n",
        "    rank = len(eigen_values)\n",
        "    for i in range(len(eigen_values)):\n",
        "        if ((eigen_values[i]/eigen_values[0])<threshold):\n",
        "            \n",
        "            rank = i\n",
        "            break\n",
        "    \n",
        "    return rank"
      ],
      "execution_count": null,
      "outputs": []
    },
    {
      "cell_type": "code",
      "metadata": {
        "id": "qPEK2MyaBkdf"
      },
      "source": [
        "def get_V(X,singular_values, eigen_vectors):\n",
        "    \n",
        "    rank = get_rank(singular_values)\n",
        "    U_r = eigen_vectors[:,0:rank]\n",
        "    \n",
        "    #sigma_r = np.zeros((rank,rank))\n",
        "    \n",
        "    #for i in range(rank):\n",
        "    #    sigma_r[i][i] = singular_values[i]\n",
        "    \n",
        "    #V_r = np.matmul(np.matmul(X.T,U_r) ,np.linalg.inv(sigma_r))\n",
        "    return U_r\n"
      ],
      "execution_count": null,
      "outputs": []
    },
    {
      "cell_type": "code",
      "metadata": {
        "id": "kRTwCimPBkgt"
      },
      "source": [
        "def projection(X,B):\n",
        "    \n",
        "    return np.matmul(X,B)"
      ],
      "execution_count": null,
      "outputs": []
    },
    {
      "cell_type": "code",
      "metadata": {
        "id": "FkVw7LWuBkkU"
      },
      "source": [
        "X_train = training_data\n",
        "X_train, means =  standardize (X_train)\n",
        "    \n",
        "eigen_values, eigen_vectors  = get_eigs(X_train)\n",
        "\n",
        "V_r = get_V(X_train, eigen_values, eigen_vectors)\n",
        "    \n",
        "B = V_r \n",
        "\n",
        "print(\"This is our Base B=\", B.shape)\n",
        "\n",
        "X_train = projection(X_train, B)\n",
        "    "
      ],
      "execution_count": null,
      "outputs": []
    },
    {
      "cell_type": "code",
      "metadata": {
        "id": "Hr1O0SQ9BtfK"
      },
      "source": [
        "print(B)"
      ],
      "execution_count": null,
      "outputs": []
    },
    {
      "cell_type": "code",
      "metadata": {
        "id": "BdK6XSpNBth_"
      },
      "source": [
        "B_2 = B[:,:2]\n",
        "print(B_2)"
      ],
      "execution_count": null,
      "outputs": []
    },
    {
      "cell_type": "code",
      "metadata": {
        "id": "0_EyaXTpBtku"
      },
      "source": [
        "B_1 = B[:,:1]\n",
        "print(B_1)"
      ],
      "execution_count": null,
      "outputs": []
    },
    {
      "cell_type": "code",
      "metadata": {
        "id": "mXLiQhpBBtnG"
      },
      "source": [
        "print(train_data)"
      ],
      "execution_count": null,
      "outputs": []
    },
    {
      "cell_type": "code",
      "metadata": {
        "id": "wQs7DCNdB1Eq"
      },
      "source": [
        "training_data_1 = np.matmul(train_data,B_1)\n",
        "training_data_2 = np.matmul(train_data,B_2)"
      ],
      "execution_count": null,
      "outputs": []
    },
    {
      "cell_type": "code",
      "metadata": {
        "id": "Ui4a9yPvBtp0"
      },
      "source": [
        "\n",
        "from mpl_toolkits.mplot3d import Axes3D\n",
        "fig = plt.figure(figsize=(20,20))\n",
        "ax = fig.add_subplot(111, projection='3d')\n",
        "ax = fig.add_subplot(111, projection='3d')\n",
        "\n",
        "ax.scatter(training_data_2[:,0],training_data_2[:,1], SalePrice, c='r', marker='o')\n",
        "\n",
        "ax.scatter(training_data_1[:,0], SalePrice, c='b', marker='o')\n",
        "\n",
        "\n",
        "plt.show()"
      ],
      "execution_count": null,
      "outputs": []
    },
    {
      "cell_type": "code",
      "metadata": {
        "id": "Mx2IRkgyB5s6"
      },
      "source": [
        "plt.scatter(training_data_1[:,0], SalePrice)\n",
        "plt.show()"
      ],
      "execution_count": null,
      "outputs": []
    },
    {
      "cell_type": "code",
      "metadata": {
        "id": "z7eLhFgUB5vm"
      },
      "source": [
        "plt.scatter(LotArea, SalePrice)\n",
        "plt.show()"
      ],
      "execution_count": null,
      "outputs": []
    },
    {
      "cell_type": "code",
      "metadata": {
        "id": "WSKPdq6xB5yZ"
      },
      "source": [
        ""
      ],
      "execution_count": null,
      "outputs": []
    },
    {
      "cell_type": "markdown",
      "metadata": {
        "id": "BMHUW5nH-xAc"
      },
      "source": [
        "++++++++++++++++++++++++++++++++++++++++++++++++++++++++++++++++++++++++++++++++++++++++++++++++++++++++++++++++++++++++\n",
        " <h1> <center> <font color = \"orange\"> [PCA ALGORITHM] <br><font color=\"grey\"> </font></center></h1>\n",
        "\n",
        "+++++++++++++++++++++++++++++++++++++++++++++++++++++++++++++++++++++++++++++++++++++++++++++++++++++++++++++++++++++"
      ]
    },
    {
      "cell_type": "code",
      "metadata": {
        "id": "-3d-AA0B9R9r"
      },
      "source": [
        "'''\n",
        "imports\n",
        "'''\n",
        "import numpy as np\n",
        "import os\n",
        "import cv2\n",
        "from sklearn import svm\n",
        "import matplotlib.pyplot as plt\n",
        "import matplotlib.image as mpimg\n",
        "import statistics"
      ],
      "execution_count": null,
      "outputs": []
    },
    {
      "cell_type": "code",
      "metadata": {
        "id": "J5DKc_HB9SAB"
      },
      "source": [
        "def train(X_train,y_train):\n",
        "    #Create a svm Classifier\n",
        "    model = svm.SVC(kernel='linear') # Linear Kernel\n",
        "\n",
        "    #Train the model using the training sets\n",
        "    model.fit(X_train, y_train)\n",
        "    \n",
        "    return model"
      ],
      "execution_count": null,
      "outputs": []
    },
    {
      "cell_type": "code",
      "metadata": {
        "id": "isX9JD63CHYk"
      },
      "source": [
        "def projection(X,B):\n",
        "    \n",
        "    return np.matmul(X,B)"
      ],
      "execution_count": null,
      "outputs": []
    },
    {
      "cell_type": "code",
      "metadata": {
        "id": "sd1NoQvUCHa_"
      },
      "source": [
        ""
      ],
      "execution_count": null,
      "outputs": []
    },
    {
      "cell_type": "code",
      "metadata": {
        "id": "AMhqBv65CHdy"
      },
      "source": [
        "def get_V(X,singular_values, eigen_vectors):\n",
        "    \n",
        "    rank = get_rank(singular_values)\n",
        "    U_r = eigen_vectors[:,0:rank]\n",
        "    \n",
        "    sigma_r = np.zeros((rank,rank))\n",
        "    \n",
        "    for i in range(rank):\n",
        "        sigma_r[i][i] = singular_values[i]\n",
        "    \n",
        "    V_r = np.matmul(np.matmul(X.T,U_r) ,np.linalg.inv(sigma_r))\n",
        "    return V_r\n"
      ],
      "execution_count": null,
      "outputs": []
    },
    {
      "cell_type": "code",
      "metadata": {
        "id": "uTNfOK6ICHgG"
      },
      "source": [
        "def get_rank (eigen_values):\n",
        "    threshold = 0.01\n",
        "    \n",
        "    for i in range(len(eigen_values)):\n",
        "        if ((eigen_values[i]/eigen_values[0])<threshold):\n",
        "            \n",
        "            rank = i\n",
        "            break\n",
        "    \n",
        "    return rank"
      ],
      "execution_count": null,
      "outputs": []
    },
    {
      "cell_type": "code",
      "metadata": {
        "id": "UMhNzP2sCHiv"
      },
      "source": [
        "def square_root(eigen_values):\n",
        "    singular_values =  [0]*len(eigen_values)\n",
        "    \n",
        "    for i in range(len(eigen_values)):\n",
        "        \n",
        "        if eigen_values[i]<0:\n",
        "            singular_values[i] = 0\n",
        "        else:\n",
        "            singular_values[i] = np.sqrt(eigen_values[i])\n",
        "    \n",
        "    return singular_values"
      ],
      "execution_count": null,
      "outputs": []
    },
    {
      "cell_type": "code",
      "metadata": {
        "id": "JlSlk9FACHlH"
      },
      "source": [
        "def sort_eigs(eigen_values,eigen_vectors):\n",
        "    sorted_indices = eigen_values.argsort()[::-1]\n",
        "    eigen_values = eigen_values[sorted_indices]\n",
        "    eigen_vectors = eigen_vectors[:,sorted_indices]\n",
        "    \n",
        "    return eigen_values, eigen_vectors"
      ],
      "execution_count": null,
      "outputs": []
    },
    {
      "cell_type": "code",
      "metadata": {
        "id": "wlV-MPbuCHn1"
      },
      "source": [
        "def get_covariance_matrix(X):\n",
        "    return np.matmul(X,X.T)"
      ],
      "execution_count": null,
      "outputs": []
    },
    {
      "cell_type": "code",
      "metadata": {
        "id": "rxoFQuxWCUSr"
      },
      "source": [
        "def get_eigs(X):\n",
        "    '''\n",
        "    Input: X\n",
        "    Outputs: Eigen valuea and the eigen vectors of xxT\n",
        "    '''\n",
        "    \n",
        "    eigen_values, eigen_vectors = np.linalg.eigh(get_covariance_matrix(X))\n",
        "    \n",
        "    eigen_values, eigen_vectors = sort_eigs(eigen_values,eigen_vectors)\n",
        "    \n",
        "    singular_values =  square_root(eigen_values)\n",
        "    return singular_values, eigen_vectors"
      ],
      "execution_count": null,
      "outputs": []
    },
    {
      "cell_type": "code",
      "metadata": {
        "id": "L4sAwPQFCUVM"
      },
      "source": [
        "def standardize(X, train = True, means =[]):\n",
        "    '''\n",
        "    Inputs: X\n",
        "    Ouputs: Xstandardized, means\n",
        "    '''\n",
        "    if (train):\n",
        "        \n",
        "        means = [0]*RESIZE * RESIZE\n",
        "        \n",
        "        for i in range(len(means)):\n",
        "            \n",
        "            means[i] = statistics.mean(X[:,i])\n",
        "        \n",
        "        for i in range(len(train_directory_list)):\n",
        "            for j in range(RESIZE*RESIZE):\n",
        "                X[i][j] = (X[i][j] - means[j])/255\n",
        "        \n",
        "        return X,means\n",
        "    else:\n",
        "        for i in range(1):\n",
        "            for j in range(RESIZE*RESIZE):\n",
        "                X[i][j] = (X[i][j] - means[j])/255\n",
        "                \n",
        "        return X\n",
        "        "
      ],
      "execution_count": null,
      "outputs": []
    },
    {
      "cell_type": "code",
      "metadata": {
        "id": "ZGL7TBtZCUXq"
      },
      "source": [
        "def flatten(X_t, train = True):\n",
        "    '''\n",
        "    INputs: X, train or not test_directory or train directory\n",
        "    Ouput: flattened X\n",
        "    \n",
        "    (40,100,100) ---> (40, 10000)\n",
        "    '''\n",
        "    if (train):\n",
        "        X = [[None]*RESIZE*RESIZE] * len(train_directory_list) # 40, 10000\n",
        "\n",
        "        for i in range (len(train_directory_list)):\n",
        "            X[i] = X_t[i].flatten()\n",
        "    else:\n",
        "        X = [[None]*RESIZE*RESIZE] * 1 # 1, 10000\n",
        "\n",
        "        for i in range (1):\n",
        "            X[i] = X_t[i].flatten()\n",
        "\n",
        "    \n",
        "    return np.array(X)"
      ],
      "execution_count": null,
      "outputs": []
    },
    {
      "cell_type": "code",
      "metadata": {
        "id": "ki_EP3dSCUaJ"
      },
      "source": [
        "train_directory = \"D:/neuralearn.ai/Linear Algebra for Machine Learning/PCA/eigen_faces/Celebrities/train_set/\"    \n",
        "train_directory_list=os.listdir(train_directory)\n",
        "    \n",
        "directory_list = train_directory_list\n",
        "\n",
        "RESIZE = 100\n",
        "\n",
        "X_train, _ = read_and_process_image(directory_list, celebrity = \"simi\")\n",
        "\n",
        "print(X_train.shape)\n",
        "\n",
        "print(flatten(X_train).shape)\n",
        "X_train = flatten(X_train) \n",
        "print(X_train.shape)\n",
        "X_standardized, means = standardize(X_train)\n",
        "\n",
        "print(X_standardized.shape)\n",
        "\n",
        "\n",
        "singular_values, eigen_vectors = get_eigs(X_standardized)\n",
        "\n",
        "print(singular_values)\n",
        "print(eigen_vectors)\n",
        "\n",
        "print(get_rank(singular_values))\n",
        "\n",
        "\n",
        "print(get_V(X_train,singular_values,eigen_vectors))"
      ],
      "execution_count": null,
      "outputs": []
    },
    {
      "cell_type": "code",
      "metadata": {
        "id": "V7Rc-RcUCUdI"
      },
      "source": [
        "test_directory = \"D:/neuralearn.ai/Linear Algebra for Machine Learning/PCA/eigen_faces/Celebrities/test_set/\"    \n",
        "test_directory_list=os.listdir(test_directory)\n",
        "    \n",
        "directory_list = test_directory_list\n",
        "\n",
        "RESIZE = 100\n",
        "\n",
        "X_test = read_and_process_image(directory_list, train = False, celebrity = \"simi\")\n",
        "\n",
        "print(X_test.shape)\n",
        "X_test = flatten(X_train, train = False)\n",
        "print(X_test.shape)\n",
        "X_test = standardize(X_test, train = False, means = means)\n",
        "\n",
        "print(X_test)\n"
      ],
      "execution_count": null,
      "outputs": []
    },
    {
      "cell_type": "code",
      "metadata": {
        "id": "YUnLcW4lCUf0"
      },
      "source": [
        "def read_and_process_image(directory_list, train=True , celebrity = \"ben\"):\n",
        "    '''\n",
        "    Inputs: directory list, whether train or test, celebrity name in the form of a string\n",
        "    Outputs the data which we'll be needing to train the model (X,y)\n",
        "    \n",
        "    '''\n",
        "    \n",
        "    X = []\n",
        "    y = []\n",
        "    \n",
        "    for image in directory_list:\n",
        "        if (train):\n",
        "            img = cv2.imread(train_directory+image, cv2.IMREAD_GRAYSCALE)\n",
        "        else:\n",
        "            img = cv2.imread(test_directory+image, cv2.IMREAD_GRAYSCALE)\n",
        "    \n",
        "    \n",
        "        img = cv2.resize(img, (RESIZE, RESIZE))\n",
        "        img = img.astype(float)\n",
        "        \n",
        "        X.append(img)\n",
        "        \n",
        "        if (train):\n",
        "            \n",
        "            if (celebrity.lower() in image):\n",
        "                y.append(1)\n",
        "                \n",
        "            else:\n",
        "                y.append(0)\n",
        "    \n",
        "    if (train):\n",
        "        return np.array(X),np.array(y)\n",
        "    else:\n",
        "        return np.array(X)"
      ],
      "execution_count": null,
      "outputs": []
    },
    {
      "cell_type": "code",
      "metadata": {
        "id": "NNrUj1_ACUh3"
      },
      "source": [
        "train_directory = \"D:/neuralearn.ai/Linear Algebra for Machine Learning/PCA/eigen_faces/Celebrities/train_set/\"    \n",
        "train_directory_list=os.listdir(train_directory)\n",
        "    \n",
        "directory_list = train_directory_list\n",
        "\n",
        "\n",
        "X_train,y_train = read_and_process_image(directory_list, train = True, celebrity =\"richard\")\n",
        "\n",
        "print(y_train)\n",
        "\n",
        "\n",
        "test_directory = \"D:/neuralearn.ai/Linear Algebra for Machine Learning/PCA/eigen_faces/Celebrities/test_set/\"    \n",
        "test_directory_list=os.listdir(test_directory)\n",
        "    \n",
        "directory_list = test_directory_list\n",
        "\n",
        "\n",
        "X_test = read_and_process_image(directory_list, train = False, celebrity =[\"simi\"])\n",
        "\n",
        "print(X_test.shape)\n",
        "\n"
      ],
      "execution_count": null,
      "outputs": []
    },
    {
      "cell_type": "code",
      "metadata": {
        "id": "-vsiSpWKCjVu"
      },
      "source": [
        "def verification (B, model, means, test_celebrity):\n",
        "    '''\n",
        "    Inputs: B, model, means, test data\n",
        "    Ouput: prediction\n",
        "    '''\n",
        "    \n",
        "    X_test = read_and_process_image(test_celebrity, train = False) \n",
        "    \n",
        "    X_test = flatten(X_test, train = False)\n",
        "    \n",
        "    X_test = standardize(X_test, train = False, means=means)\n",
        "    \n",
        "    X_test = projection(X_test, B)\n",
        "    \n",
        "    y_pred = model.predict(X_test)\n",
        "    \n",
        "    return y_pred # [0] or [1]"
      ],
      "execution_count": null,
      "outputs": []
    },
    {
      "cell_type": "code",
      "metadata": {
        "id": "tlbBzfzcCjYl"
      },
      "source": [
        "def generate_weight(celebrity): \n",
        "    \n",
        "    '''\n",
        "    Input celebrity \n",
        "    Ouputs weights, B, means\n",
        "    '''\n",
        "    \n",
        "    train_directory = \"D:/neuralearn.ai/Linear Algebra for Machine Learning/PCA/eigen_faces/Celebrities/train_set/\"\n",
        "    \n",
        "    train_directory_list=os.listdir(train_directory)\n",
        "    \n",
        "    X_train, y_train = read_and_process_image(train_directory_list, train = True, celebrity=celebrity) # (40,100,100), (40,)\n",
        "    \n",
        "    X_train =  flatten(X_train) #(40,10000)\n",
        "    \n",
        "    X_train, means =  standardize (X_train)\n",
        "    \n",
        "    \n",
        "    eigen_values, eigen_vectors  = get_eigs(X_train)\n",
        "    \n",
        "    \n",
        "    V_r = get_V(X_train, eigen_values, eigen_vectors)\n",
        "    \n",
        "    \n",
        "    B = V_r \n",
        "    \n",
        "    print(\"This is our Base B=\", B.shape)\n",
        "    \n",
        "    X_train = projection(X_train, B)\n",
        "    \n",
        "    weight = train (X_train, y_train)\n",
        "    \n",
        "    return  weight, np.array(B), np.array(means)\n",
        "    "
      ],
      "execution_count": null,
      "outputs": []
    },
    {
      "cell_type": "code",
      "metadata": {
        "id": "SwBBsch-CjbA"
      },
      "source": [
        "celebrities = [\"Ben\", \"Bob\", \"Simi\", \"Richard\", \"Dipanda\"]\n",
        "\n",
        "RESIZE = 100\n",
        "weights = []"
      ],
      "execution_count": null,
      "outputs": []
    },
    {
      "cell_type": "code",
      "metadata": {
        "id": "CNv8ujHeCHq3"
      },
      "source": [
        "for c in celebrities:\n",
        "    \n",
        "    weight, B, means = generate_weight(c)\n",
        "    weights.append(weight)\n"
      ],
      "execution_count": null,
      "outputs": []
    },
    {
      "cell_type": "code",
      "metadata": {
        "id": "FBffMjOKCvoo"
      },
      "source": [
        "test_directory = \"D:/neuralearn.ai/Linear Algebra for Machine Learning/PCA/eigen_faces/Celebrities/test_set/\"\n",
        "test_directory_list =os.listdir(test_directory)\n",
        "print(test_directory_list)"
      ],
      "execution_count": null,
      "outputs": []
    },
    {
      "cell_type": "code",
      "metadata": {
        "id": "an7kpWarCyJ7"
      },
      "source": [
        "\n",
        "for test_celeb in test_directory_list:\n",
        "    found = False\n",
        "    print(test_directory+test_celeb)\n",
        "    im = mpimg.imread(test_directory+test_celeb)\n",
        "    im = plt.imshow(im)\n",
        "    plt.show()\n",
        "    \n",
        "    test_celebrity = []\n",
        "    test_celebrity.append(test_celeb)\n",
        "    print(test_celebrity)\n",
        "    i = 0\n",
        "    for c in celebrities:\n",
        "        print(test_celebrity)\n",
        "        \n",
        "        if (verification (B,weights[i],means, test_celebrity)== [1]):\n",
        "            found = True\n",
        "            print(\"This image has been recognized as: \", c)\n",
        "            break\n",
        "        i+=1 # i = i+1 \n",
        "        \n",
        "    if (found ==  False):\n",
        "        print(\"This person is not found in the database!!!\")\n",
        "            \n",
        "        \n",
        "        \n",
        "    \n",
        "    "
      ],
      "execution_count": null,
      "outputs": []
    },
    {
      "cell_type": "code",
      "metadata": {
        "id": "L0NoL_m5CyOo"
      },
      "source": [
        ""
      ],
      "execution_count": null,
      "outputs": []
    },
    {
      "cell_type": "code",
      "metadata": {
        "id": "HiTKkewaCySE"
      },
      "source": [
        ""
      ],
      "execution_count": null,
      "outputs": []
    },
    {
      "cell_type": "code",
      "metadata": {
        "id": "ZBNIdXC5CyXE"
      },
      "source": [
        ""
      ],
      "execution_count": null,
      "outputs": []
    },
    {
      "cell_type": "code",
      "metadata": {
        "id": "swFNblGoCyaD"
      },
      "source": [
        ""
      ],
      "execution_count": null,
      "outputs": []
    },
    {
      "cell_type": "code",
      "metadata": {
        "id": "NES3FuzyCyc9"
      },
      "source": [
        ""
      ],
      "execution_count": null,
      "outputs": []
    }
  ]
}